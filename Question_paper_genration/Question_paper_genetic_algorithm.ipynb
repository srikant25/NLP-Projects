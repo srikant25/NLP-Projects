{
 "cells": [
  {
   "cell_type": "code",
   "execution_count": null,
   "metadata": {},
   "outputs": [],
   "source": [
    "def fittness_score(objective_function,Question_paper):\n",
    "    Fittness_score =[]\n",
    "    Question_label=[]\n",
    "    for j in range(total_number_of_question_paper):\n",
    "    \n",
    "        label=list(Question_paper[j].Label)\n",
    "    \n",
    "        Question_label.append(label)\n",
    "    \n",
    "    for j in range(len(Question_label)):\n",
    "    \n",
    "        label,count=np.unique(Question_label[j],return_counts=True)\n",
    "        label_in_percentage=[]\n",
    "        for i in range(len(count)):\n",
    "            label_in_percentage.append(int((count[i]/Number_of_question)*100))\n",
    "\n",
    "        sample_question_bloom_taxonomy_label= {label[i]: label_in_percentage[i] for i in range(len(label))} \n",
    "        bloom_taxonomy_label=list(objective_function.keys())\n",
    "        fittness=0\n",
    "        for i in range(len(bloom_taxonomy_label)):\n",
    "     \n",
    "             if bloom_taxonomy_label[i] in sample_question_bloom_taxonomy_label:\n",
    "            \n",
    "                    error = abs(objective_function[bloom_taxonomy_label[i]] - sample_question_bloom_taxonomy_label[bloom_taxonomy_label[i]])\n",
    "                    fittness=fittness+error\n",
    "            \n",
    "             else:\n",
    "            \n",
    "                    fittness=fittness+objective_function[bloom_taxonomy_label[i]]\n",
    "        Fittness_score.append(fittness)    \n",
    "    return Fittness_score\n",
    "        "
   ]
  },
  {
   "cell_type": "code",
   "execution_count": null,
   "metadata": {},
   "outputs": [],
   "source": [
    "num_parents=4\n",
    "\n",
    "def select_mating_pool(pop, fitness, num_parents):\n",
    "\n",
    "    # Selecting the best individuals in the current generation as parents for producing the offspring of the next generation.\n",
    "\n",
    "    parents=[[] for j in range(num_parents)]\n",
    "\n",
    "    for parent_num in range(num_parents):\n",
    "\n",
    "        max_fitness_idx = np.where(fitness == np.min(fitness))\n",
    "\n",
    "        max_fitness_idx = max_fitness_idx[0][0]\n",
    "\n",
    "        parents[parent_num] = list(pop[max_fitness_idx].Label)\n",
    "\n",
    "        fitness[max_fitness_idx] = 99999999999\n",
    "\n",
    "    return parents\n",
    "\n",
    "parents=select_mating_pool(Question_paper,Fittness_score,num_parents)\n"
   ]
  },
  {
   "cell_type": "code",
   "execution_count": null,
   "metadata": {},
   "outputs": [],
   "source": [
    "offspring_size=total_number_of_question_paper - num_parents\n",
    "\n",
    "def crossover(parents,offspring_size):\n",
    "    offspring=[[] for j in range(offspring_size)]\n",
    "    #offspring = np.empty(offspring_size)\n",
    "    # The point at which crossover takes place between two parents. Usually it is at the center.\n",
    "    crossover_point = np.uint8(Number_of_question/2)\n",
    "\n",
    "    for k in range(len(offspring)):\n",
    "        # Index of the first parent to mate.\n",
    "        parent1_idx = k%len(parents)\n",
    "        # Index of the second parent to mate.\n",
    "        parent2_idx = (k+1)%len(parents)\n",
    "        # The new offspring will have its first half of its genes taken from the first parent.\n",
    "        offspring[k][0:crossover_point] = parents[parent1_idx][0:crossover_point]\n",
    "        # The new offspring will have its second half of its genes taken from the second parent.\n",
    "        offspring[k][crossover_point:] = parents[parent2_idx][crossover_point:]\n",
    "        \n",
    "    return offspring  \n"
   ]
  },
  {
   "cell_type": "code",
   "execution_count": null,
   "metadata": {},
   "outputs": [],
   "source": [
    "def mutation(offspring_crossover,sample_data):\n",
    "\n",
    "    # Mutation changes a single gene in each offspring randomly.\n",
    "\n",
    "    for idx in range(len(offspring_crossover)):\n",
    "\n",
    "        # The random value to be added to the gene.\n",
    "\n",
    "        #random_value = numpy.random.uniform(-1.0, 1.0, 1)\n",
    "        random_value=list((sample_data.sample()).Label)[0]\n",
    "        \n",
    "\n",
    "        offspring_crossover[idx][4] =  random_value\n",
    "        \n",
    "\n",
    "    return offspring_crossover\n",
    "#offspring_crossover=mutation(offspring,sample_data)"
   ]
  },
  {
   "cell_type": "code",
   "execution_count": null,
   "metadata": {},
   "outputs": [],
   "source": [
    "new_population=[[]for j in range(total_number_of_question_paper)]\n",
    "new_population[0:len(parents)] = parents\n",
    "new_population[len(parents):] = offspring_crossover"
   ]
  },
  {
   "cell_type": "code",
   "execution_count": null,
   "metadata": {},
   "outputs": [],
   "source": [
    "new_population"
   ]
  },
  {
   "cell_type": "code",
   "execution_count": 126,
   "metadata": {},
   "outputs": [
    {
     "name": "stdout",
     "output_type": "stream",
     "text": [
      "Generation :  0\n"
     ]
    },
    {
     "ename": "AttributeError",
     "evalue": "'list' object has no attribute 'Label'",
     "output_type": "error",
     "traceback": [
      "\u001b[1;31m---------------------------------------------------------------------------\u001b[0m",
      "\u001b[1;31mAttributeError\u001b[0m                            Traceback (most recent call last)",
      "\u001b[1;32m<ipython-input-126-81ba4dff5f67>\u001b[0m in \u001b[0;36m<module>\u001b[1;34m\u001b[0m\n\u001b[0;32m     50\u001b[0m \u001b[1;33m\u001b[0m\u001b[0m\n\u001b[0;32m     51\u001b[0m     \u001b[1;31m# Selecting the best parents in the population for mating.\u001b[0m\u001b[1;33m\u001b[0m\u001b[1;33m\u001b[0m\u001b[1;33m\u001b[0m\u001b[0m\n\u001b[1;32m---> 52\u001b[1;33m     \u001b[0mparents\u001b[0m \u001b[1;33m=\u001b[0m \u001b[0mselect_mating_pool\u001b[0m\u001b[1;33m(\u001b[0m\u001b[0mQuestion_label\u001b[0m\u001b[1;33m,\u001b[0m \u001b[0mfitness\u001b[0m\u001b[1;33m,\u001b[0m \u001b[0mnum_parents\u001b[0m\u001b[1;33m)\u001b[0m\u001b[1;33m\u001b[0m\u001b[1;33m\u001b[0m\u001b[0m\n\u001b[0m\u001b[0;32m     53\u001b[0m \u001b[1;33m\u001b[0m\u001b[0m\n\u001b[0;32m     54\u001b[0m     \u001b[1;31m# Generating next generation using crossover.\u001b[0m\u001b[1;33m\u001b[0m\u001b[1;33m\u001b[0m\u001b[1;33m\u001b[0m\u001b[0m\n",
      "\u001b[1;32m<ipython-input-120-23b424880e1e>\u001b[0m in \u001b[0;36mselect_mating_pool\u001b[1;34m(pop, fitness, num_parents)\u001b[0m\n\u001b[0;32m     13\u001b[0m         \u001b[0mmax_fitness_idx\u001b[0m \u001b[1;33m=\u001b[0m \u001b[0mmax_fitness_idx\u001b[0m\u001b[1;33m[\u001b[0m\u001b[1;36m0\u001b[0m\u001b[1;33m]\u001b[0m\u001b[1;33m[\u001b[0m\u001b[1;36m0\u001b[0m\u001b[1;33m]\u001b[0m\u001b[1;33m\u001b[0m\u001b[1;33m\u001b[0m\u001b[0m\n\u001b[0;32m     14\u001b[0m \u001b[1;33m\u001b[0m\u001b[0m\n\u001b[1;32m---> 15\u001b[1;33m         \u001b[0mparents\u001b[0m\u001b[1;33m[\u001b[0m\u001b[0mparent_num\u001b[0m\u001b[1;33m]\u001b[0m \u001b[1;33m=\u001b[0m \u001b[0mlist\u001b[0m\u001b[1;33m(\u001b[0m\u001b[0mpop\u001b[0m\u001b[1;33m[\u001b[0m\u001b[0mmax_fitness_idx\u001b[0m\u001b[1;33m]\u001b[0m\u001b[1;33m.\u001b[0m\u001b[0mLabel\u001b[0m\u001b[1;33m)\u001b[0m\u001b[1;33m\u001b[0m\u001b[1;33m\u001b[0m\u001b[0m\n\u001b[0m\u001b[0;32m     16\u001b[0m \u001b[1;33m\u001b[0m\u001b[0m\n\u001b[0;32m     17\u001b[0m         \u001b[0mfitness\u001b[0m\u001b[1;33m[\u001b[0m\u001b[0mmax_fitness_idx\u001b[0m\u001b[1;33m]\u001b[0m \u001b[1;33m=\u001b[0m \u001b[1;36m99999999999\u001b[0m\u001b[1;33m\u001b[0m\u001b[1;33m\u001b[0m\u001b[0m\n",
      "\u001b[1;31mAttributeError\u001b[0m: 'list' object has no attribute 'Label'"
     ]
    }
   ],
   "source": [
    "import numpy as np\n",
    "import pandas as pd\n",
    "import math\n",
    "import random\n",
    "\n",
    "data=pd.read_csv('C:/Users/SRIKANT NAYAK/Documents/code/bloom_texonomy/data1.csv',encoding= 'unicode_escape')\n",
    "df=pd.DataFrame(data)\n",
    "\n",
    "shuffled_data=df.sample(frac=1)\n",
    "\n",
    "sample_data=shuffled_data[:100]\n",
    "\n",
    "Number_of_question = 10\n",
    "\n",
    "objective_function = {'Analysis':10 ,'Application':10 , 'Comprehension':15 ,'Evaluation ' :30,'Knowledge':15 ,'Synthesis':20 }\n",
    "\n",
    "bloom_taxonomy_label=list(objective_function.keys())\n",
    "\n",
    "value_in_percentage=list(objective_function.values())\n",
    "\n",
    "total_number_of_question_paper = int(sample_data.shape[0]/Number_of_question)\n",
    "\n",
    "#initialization ....\n",
    "\n",
    "Question_paper=[]\n",
    "\n",
    "\n",
    "\n",
    "for i in range(total_number_of_question_paper):\n",
    "    \n",
    "    Question_paper.append(sample_data[i*total_number_of_question_paper:(i+1)*total_number_of_question_paper])\n",
    "    \n",
    "\n",
    "    \n",
    "    \n",
    "fittness_scorre=fittness_score(objective_function,Question_label) \n",
    "\n",
    "num_generations=5\n",
    "num_parents=4\n",
    "offspring_size=total_number_of_question_paper - num_parents\n",
    "new_population=[[]for j in range(total_number_of_question_paper)]\n",
    "for generation in range(num_generations):\n",
    "    print(\"Generation : \", generation)\n",
    "    # Measing the fitness of each chromosome in the population.\n",
    "    fitness = fittness_score(objective_function,Question_paper)\n",
    "\n",
    "    # Selecting the best parents in the population for mating.\n",
    "    parents = select_mating_pool(Question_label, fitness, num_parents)\n",
    "\n",
    "    # Generating next generation using crossover.\n",
    "    offspring_crossover = crossover(parents,offspring_size)\n",
    "\n",
    "    # Adding some variations to the offsrping using mutation.\n",
    "    offspring_mutation = mutation(offspring_crossover)\n",
    "\n",
    "    # Creating the new population based on the parents and offspring.\n",
    "    Question_label[0:len(parents)] = parents\n",
    "    Question_label[len(parents):] = offspring_mutation\n",
    "    \n",
    "\n",
    "    # The best result in the current iteration.\n",
    "    print(\"Best result : \", np.min(fitness))\n",
    "\n",
    "# Getting the best solution after iterating finishing all generations.\n",
    "#At first, the fitness is calculated for each solution in the final generation.\n",
    "fitness = fittness_score(objective_function,Question_label)\n",
    "\n",
    "# Then return the index of that solution corresponding to the best fitness.\n",
    "best_match_idx = np.where(fitness == np.min(fitness))\n",
    "\n",
    "print(\"Best solution : \", Question_paper[best_match_idx, :])\n",
    "print(\"Best solution fitness : \", fitness[best_match_idx])"
   ]
  },
  {
   "cell_type": "code",
   "execution_count": null,
   "metadata": {},
   "outputs": [],
   "source": []
  },
  {
   "cell_type": "code",
   "execution_count": null,
   "metadata": {},
   "outputs": [],
   "source": []
  },
  {
   "cell_type": "code",
   "execution_count": null,
   "metadata": {},
   "outputs": [],
   "source": []
  },
  {
   "cell_type": "code",
   "execution_count": 110,
   "metadata": {},
   "outputs": [
    {
     "name": "stdout",
     "output_type": "stream",
     "text": [
      "[60, 60, 70, 30, 80, 50, 20, 80, 50, 40]\n"
     ]
    }
   ],
   "source": [
    "import numpy as np\n",
    "import pandas as pd\n",
    "import math\n",
    "import random\n",
    "\n",
    "data=pd.read_csv('C:/Users/SRIKANT NAYAK/Documents/code/bloom_texonomy/data1.csv',encoding= 'unicode_escape')\n",
    "df=pd.DataFrame(data)\n",
    "\n",
    "shuffled_data=df.sample(frac=1)\n",
    "\n",
    "sample_data=shuffled_data[:100]\n",
    "\n",
    "Number_of_question = 10\n",
    "\n",
    "objective_function = {'Analysis':10 ,'Application':10 , 'Comprehension':15 ,'Evaluation ' :30,'Knowledge':15 ,'Synthesis':20 }\n",
    "\n",
    "bloom_taxonomy_label=list(objective_function.keys())\n",
    "\n",
    "value_in_percentage=list(objective_function.values())\n",
    "\n",
    "total_number_of_question_paper = int(sample_data.shape[0]/Number_of_question)\n",
    "\n",
    "#initialization ....\n",
    "\n",
    "Question_paper=[]\n",
    "\n",
    "Question_label=[]\n",
    "\n",
    "for i in range(total_number_of_question_paper):\n",
    "    \n",
    "    Question_paper.append(sample_data[i*total_number_of_question_paper:(i+1)*total_number_of_question_paper])\n",
    "    \n",
    "for j in range(total_number_of_question_paper):\n",
    "    \n",
    "    label=list(Question_paper[j].Label)\n",
    "    \n",
    "    Question_label.append(label)\n",
    "    \n",
    "    \n",
    "fittness_scorre=fittness_score(objective_function,Question_label)       \n",
    "    \n",
    "'''    \n",
    "# measure fittness score of each question paper\n",
    "\n",
    "def fittness_score(objective_function,sample_question_bloom_taxonomy_label):\n",
    "    \n",
    "    bloom_taxonomy_label=list(objective_function.keys())\n",
    "    fittness=0\n",
    "    for i in range(len(bloom_taxonomy_label)):\n",
    "     \n",
    "        if bloom_taxonomy_label[i] in sample_question_bloom_taxonomy_label:\n",
    "            \n",
    "            error = abs(objective_function[bloom_taxonomy_label[i]] - sample_question_bloom_taxonomy_label[bloom_taxonomy_label[i]])\n",
    "            fittness=fittness+error\n",
    "            \n",
    "        else:\n",
    "            \n",
    "            fittness=fittness+objective_function[bloom_taxonomy_label[i]]\n",
    "            \n",
    "    return fittness\n",
    "            \n",
    "\n",
    "Fittness_score =[]\n",
    "for j in range(total_number_of_question_paper):\n",
    "    \n",
    "    Question_label=list(Question_paper[j].Label)\n",
    "    label,count=np.unique(Question_label,return_counts=True)\n",
    "    label_in_percentage=[]\n",
    "    for i in range(len(count)):\n",
    "        label_in_percentage.append(int((count[i]/10)*100))\n",
    "    \n",
    "    sample_question_bloom_taxonomy_label= {label[i]: label_in_percentage[i] for i in range(len(label))} \n",
    "    \n",
    "    fittness=fittness_score(objective_function,sample_question_bloom_taxonomy_label)\n",
    "\n",
    "\n",
    "    Fittness_score.append(fittness)\n",
    "'''    \n",
    "print(fittness_scorre)\n"
   ]
  },
  {
   "cell_type": "code",
   "execution_count": 107,
   "metadata": {},
   "outputs": [
    {
     "data": {
      "text/plain": [
       "['Application',\n",
       " 'Comprehension',\n",
       " 'Evaluation ',\n",
       " 'Evaluation ',\n",
       " 'Evaluation ',\n",
       " 'Synthesis',\n",
       " 'Knowledge',\n",
       " 'Analysis',\n",
       " 'Evaluation ',\n",
       " 'Knowledge']"
      ]
     },
     "execution_count": 107,
     "metadata": {},
     "output_type": "execute_result"
    }
   ],
   "source": [
    "Question_label"
   ]
  },
  {
   "cell_type": "code",
   "execution_count": 117,
   "metadata": {},
   "outputs": [],
   "source": [
    "def fittness_score(objective_function,Question_label):\n",
    "    Fittness_score =[]\n",
    "    for j in range(len(Question_label)):\n",
    "    \n",
    "        label,count=np.unique(Question_label[j],return_counts=True)\n",
    "        label_in_percentage=[]\n",
    "        for i in range(len(count)):\n",
    "            label_in_percentage.append(int((count[i]/Number_of_question)*100))\n",
    "\n",
    "        sample_question_bloom_taxonomy_label= {label[i]: label_in_percentage[i] for i in range(len(label))} \n",
    "        bloom_taxonomy_label=list(objective_function.keys())\n",
    "        fittness=0\n",
    "        for i in range(len(bloom_taxonomy_label)):\n",
    "     \n",
    "             if bloom_taxonomy_label[i] in sample_question_bloom_taxonomy_label:\n",
    "            \n",
    "                    error = abs(objective_function[bloom_taxonomy_label[i]] - sample_question_bloom_taxonomy_label[bloom_taxonomy_label[i]])\n",
    "                    fittness=fittness+error\n",
    "            \n",
    "             else:\n",
    "            \n",
    "                    fittness=fittness+objective_function[bloom_taxonomy_label[i]]\n",
    "        Fittness_score.append(fittness)    \n",
    "    return Fittness_score\n",
    "        \n",
    "\n",
    "fittness_scorre=fittness_score(objective_function,new_population)   "
   ]
  },
  {
   "cell_type": "code",
   "execution_count": 118,
   "metadata": {},
   "outputs": [
    {
     "data": {
      "text/plain": [
       "[20, 40, 60, 50, 50, 60, 70, 60, 30, 50]"
      ]
     },
     "execution_count": 118,
     "metadata": {},
     "output_type": "execute_result"
    }
   ],
   "source": [
    "\n",
    "fittness_scorre"
   ]
  },
  {
   "cell_type": "code",
   "execution_count": 111,
   "metadata": {},
   "outputs": [],
   "source": [
    "num_parents=4\n",
    "\n",
    "def select_mating_pool(pop, fitness, num_parents):\n",
    "\n",
    "    # Selecting the best individuals in the current generation as parents for producing the offspring of the next generation.\n",
    "\n",
    "    parents=[[] for j in range(num_parents)]\n",
    "\n",
    "    for parent_num in range(num_parents):\n",
    "\n",
    "        max_fitness_idx = np.where(fitness == np.min(fitness))\n",
    "\n",
    "        max_fitness_idx = max_fitness_idx[0][0]\n",
    "\n",
    "        parents[parent_num] = list(pop[max_fitness_idx].Label)\n",
    "\n",
    "        fitness[max_fitness_idx] = 99999999999\n",
    "\n",
    "    return parents\n",
    "\n",
    "parents=select_mating_pool(Question_paper,Fittness_score,num_parents)\n"
   ]
  },
  {
   "cell_type": "code",
   "execution_count": 112,
   "metadata": {},
   "outputs": [],
   "source": [
    "paren = np.empty((num_parents, 10))\n",
    "for i in range(num_parents):\n",
    "    for j in range(10):\n",
    " \n",
    "        np.append(paren,parents[i][j])"
   ]
  },
  {
   "cell_type": "code",
   "execution_count": null,
   "metadata": {},
   "outputs": [],
   "source": []
  },
  {
   "cell_type": "code",
   "execution_count": null,
   "metadata": {},
   "outputs": [],
   "source": []
  },
  {
   "cell_type": "code",
   "execution_count": 113,
   "metadata": {},
   "outputs": [],
   "source": [
    "offspring_size=total_number_of_question_paper - num_parents\n",
    "\n",
    "def crossover(parents,offspring_size):\n",
    "    offspring=[[] for j in range(offspring_size)]\n",
    "    #offspring = np.empty(offspring_size)\n",
    "    # The point at which crossover takes place between two parents. Usually it is at the center.\n",
    "    crossover_point = np.uint8(Number_of_question/2)\n",
    "\n",
    "    for k in range(len(offspring)):\n",
    "        # Index of the first parent to mate.\n",
    "        parent1_idx = k%len(parents)\n",
    "        # Index of the second parent to mate.\n",
    "        parent2_idx = (k+1)%len(parents)\n",
    "        # The new offspring will have its first half of its genes taken from the first parent.\n",
    "        offspring[k][0:crossover_point] = parents[parent1_idx][0:crossover_point]\n",
    "        # The new offspring will have its second half of its genes taken from the second parent.\n",
    "        offspring[k][crossover_point:] = parents[parent2_idx][crossover_point:]\n",
    "        \n",
    "    return offspring  \n"
   ]
  }
 ],
 "metadata": {
  "kernelspec": {
   "display_name": "Python 3",
   "language": "python",
   "name": "python3"
  },
  "language_info": {
   "codemirror_mode": {
    "name": "ipython",
    "version": 3
   },
   "file_extension": ".py",
   "mimetype": "text/x-python",
   "name": "python",
   "nbconvert_exporter": "python",
   "pygments_lexer": "ipython3",
   "version": "3.7.6"
  }
 },
 "nbformat": 4,
 "nbformat_minor": 4
}
