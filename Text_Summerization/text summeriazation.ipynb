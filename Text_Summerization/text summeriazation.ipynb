{
 "cells": [
  {
   "cell_type": "markdown",
   "metadata": {},
   "source": [
    "# 1. Create the word frequency table\n",
    "we create a dictionary for the word frequency table from the text.\n",
    "For this, we should only use the words that are not part of the stopWords array."
   ]
  },
  {
   "cell_type": "code",
   "execution_count": 1,
   "metadata": {},
   "outputs": [],
   "source": [
    "def _create_frequency_table(text_string) -> dict:\n",
    "\n",
    "    stopWords = set(stopwords.words(\"english\"))\n",
    "    words = word_tokenize(text_string)\n",
    "    ps = PorterStemmer()\n",
    "\n",
    "    freqTable = dict()\n",
    "    for word in words:\n",
    "        word = ps.stem(word)\n",
    "        if word in stopWords:\n",
    "            continue\n",
    "        if word in freqTable:\n",
    "            freqTable[word] += 1\n",
    "        else:\n",
    "            freqTable[word] = 1\n",
    "\n",
    "    return freqTable"
   ]
  },
  {
   "cell_type": "markdown",
   "metadata": {},
   "source": [
    "# 2. Tokenize the sentences\n",
    "Now, we split the text_string in a set of sentences. For this, we will use the inbuilt method from the nltk"
   ]
  },
  {
   "cell_type": "code",
   "execution_count": null,
   "metadata": {},
   "outputs": [],
   "source": [
    "sent_tokenize(text)"
   ]
  },
  {
   "cell_type": "markdown",
   "metadata": {},
   "source": [
    "# 3. Score the sentences: Term frequency\n",
    "We’re using the Term Frequency method to score each sentence.score a sentence by its words, adding the frequency of every non-stop word in a sentence."
   ]
  },
  {
   "cell_type": "code",
   "execution_count": 2,
   "metadata": {},
   "outputs": [],
   "source": [
    "def _score_sentences(sentences, freqTable) -> dict:\n",
    "    sentenceValue = dict()\n",
    "\n",
    "    for sentence in sentences:\n",
    "        word_count_in_sentence = (len(word_tokenize(sentence)))\n",
    "        for wordValue in freqTable:\n",
    "            if wordValue in sentence.lower():\n",
    "                if sentence[:10] in sentenceValue:\n",
    "                    sentenceValue[sentence[:10]] += freqTable[wordValue]\n",
    "                else:\n",
    "                    sentenceValue[sentence[:10]] = freqTable[wordValue]\n",
    "\n",
    "        sentenceValue[sentence[:10]] = sentenceValue[sentence[:10]] // word_count_in_sentence\n",
    "\n",
    "    return sentenceValue"
   ]
  },
  {
   "cell_type": "markdown",
   "metadata": {},
   "source": [
    "# 4. Find the threshold\n",
    "Here, we are considering the average score of the sentences as a threshold."
   ]
  },
  {
   "cell_type": "code",
   "execution_count": 3,
   "metadata": {},
   "outputs": [],
   "source": [
    "def _find_average_score(sentenceValue) -> int:\n",
    "    sumValues = 0\n",
    "    for entry in sentenceValue:\n",
    "        sumValues += sentenceValue[entry]\n",
    "\n",
    "    # Average value of a sentence from original text\n",
    "    average = int(sumValues / len(sentenceValue))\n",
    "\n",
    "    return average"
   ]
  },
  {
   "cell_type": "markdown",
   "metadata": {},
   "source": [
    "# 5. Generate the summary\n",
    "Select a sentence for a summarization, If the sentence score is more than the average score."
   ]
  },
  {
   "cell_type": "code",
   "execution_count": 4,
   "metadata": {},
   "outputs": [],
   "source": [
    "def _generate_summary(sentences, sentenceValue, threshold):\n",
    "    sentence_count = 0\n",
    "    summary = ''\n",
    "\n",
    "    for sentence in sentences:\n",
    "        if sentence[:10] in sentenceValue and sentenceValue[sentence[:10]] > (threshold):\n",
    "            summary += \" \" + sentence\n",
    "            sentence_count += 1\n",
    "\n",
    "    return summary"
   ]
  },
  {
   "cell_type": "markdown",
   "metadata": {},
   "source": [
    "# let’s summarize(!) the entire algorithm"
   ]
  },
  {
   "cell_type": "code",
   "execution_count": 5,
   "metadata": {},
   "outputs": [],
   "source": [
    "#text='The generative network generates candidates while the discriminative network evaluates them. The contest operates in terms of data distributions. Typically, the generative network learns to map from a latent space to a data distribution of interest, while the discriminative network distinguishes candidates produced by the generator from the true data distribution. The generative networks training objective is to increase the error rate of the discriminative network (i.e., \"fool\" the discriminator network by producing novel candidates that the discriminator thinks are not synthesized (are part of the true data distribution)).[1][5]A known dataset serves as the initial training data for the discriminator. Training it involves presenting it with samples from the training dataset, until it achieves acceptable accuracy. The generator trains based on whether it succeeds in fooling the discriminator. Typically the generator is seeded with randomized input that is sampled from a predefined latent space (e.g. a multivariate normal distribution). Thereafter, candidates synthesized by the generator are evaluated by the discriminator. Backpropagation is applied in both networks so that the generator produces better images, while the discriminator becomes more skilled at flagging synthetic images.[6] The generator is typically a deconvolutional neural network, and the discriminator is a convolutional neural network.GANs often suffer from a \"mode collapse\" where they fail to generalize properly, missing entire modes from the input data. For example, a GAN trained on the MNIST dataset containing many samples of each digit, might nevertheless timidly omit a subset of the digits from its output. Some researchers perceive the root problem to be a weak discriminative network that fails to notice the pattern of omission, while others assign blame to a bad choice of objective function. Many solutions have been proposed.[7]'\n",
    "#text = text.apply(lambda x: \" \".join([stemmer.stem(i) for i in re.sub(\"[^a-zA-Z]\", \" \", x).split() if i not in words]).lower())\n",
    "text='In an attempt to build an AI-ready workforce, Microsoft announced Intelligent Cloud Hub which has been launched to empower the next generation of students with AI-ready skills. Envisioned as a three-year collaborative program, Intelligent Cloud Hub will support around 100 institutions with AI infrastructure, course content and curriculum, developer support, development tools and give students access to cloud and AI services. As part of the program, the Redmond giant which wants to expand its reach and is planning to build a strong developer ecosystem in India with the program will set up the core AI infrastructure and IoT Hub for the selected campuses. The company will provide AI development tools and Azure AI services such as Microsoft Cognitive Services, Bot Services and Azure Machine Learning.According to Manish Prakash, Country General Manager-PS, Health and Education, Microsoft India, said, \"With AI being the defining technology of our time, it is transforming lives and industry and the jobs of tomorrow will require a different skillset. This will require more collaborations and training and working with AI. That’s why it has become more critical than ever for educational institutions to integrate new cloud and AI technologies. The program is an attempt to ramp up the institutional set-up and build capabilities among the educators to educate the workforce of tomorrow.\" The program aims to build up the cognitive skills and in-depth understanding of developing intelligent cloud connected solutions for applications across industry. Earlier in April this year, the company announced Microsoft Professional Program In AI as a learning track open to the public. The program was developed to provide job ready skills to programmers who wanted to hone their skills in AI and data science with a series of online courses which featured hands-on labs and expert instructors as well. This program also included developer-focused AI school that provided a bunch of assets to help build AI skills.'\n",
    "\n"
   ]
  },
  {
   "cell_type": "code",
   "execution_count": 11,
   "metadata": {},
   "outputs": [
    {
     "data": {
      "text/plain": [
       "'In an attempt to build an AI-ready workforce, Microsoft announced Intelligent Cloud Hub which has been launched to empower the next generation of students with AI-ready skills. Envisioned as a three-year collaborative program, Intelligent Cloud Hub will support around 100 institutions with AI infrastructure, course content and curriculum, developer support, development tools and give students access to cloud and AI services. As part of the program, the Redmond giant which wants to expand its reach and is planning to build a strong developer ecosystem in India with the program will set up the core AI infrastructure and IoT Hub for the selected campuses. The company will provide AI development tools and Azure AI services such as Microsoft Cognitive Services, Bot Services and Azure Machine Learning.According to Manish Prakash, Country General Manager-PS, Health and Education, Microsoft India, said, \"With AI being the defining technology of our time, it is transforming lives and industry and the jobs of tomorrow will require a different skillset. This will require more collaborations and training and working with AI. That’s why it has become more critical than ever for educational institutions to integrate new cloud and AI technologies. The program is an attempt to ramp up the institutional set-up and build capabilities among the educators to educate the workforce of tomorrow.\" The program aims to build up the cognitive skills and in-depth understanding of developing intelligent cloud connected solutions for applications across industry. Earlier in April this year, the company announced Microsoft Professional Program In AI as a learning track open to the public. The program was developed to provide job ready skills to programmers who wanted to hone their skills in AI and data science with a series of online courses which featured hands-on labs and expert instructors as well. This program also included developer-focused AI school that provided a bunch of assets to help build AI skills.'"
      ]
     },
     "execution_count": 11,
     "metadata": {},
     "output_type": "execute_result"
    }
   ],
   "source": [
    "text"
   ]
  },
  {
   "cell_type": "code",
   "execution_count": 6,
   "metadata": {},
   "outputs": [
    {
     "name": "stdout",
     "output_type": "stream",
     "text": [
      "1\n",
      " In an attempt to build an AI-ready workforce, Microsoft announced Intelligent Cloud Hub which has been launched to empower the next generation of students with AI-ready skills. Envisioned as a three-year collaborative program, Intelligent Cloud Hub will support around 100 institutions with AI infrastructure, course content and curriculum, developer support, development tools and give students access to cloud and AI services. Earlier in April this year, the company announced Microsoft Professional Program In AI as a learning track open to the public. This program also included developer-focused AI school that provided a bunch of assets to help build AI skills.\n"
     ]
    }
   ],
   "source": [
    "from nltk.corpus import stopwords\n",
    "from nltk.stem import PorterStemmer\n",
    "from nltk.tokenize import word_tokenize, sent_tokenize\n",
    "\n",
    "# 1 Create the word frequency table\n",
    "#text=\"the theory and development of computer systems able to perform tasks normally requiring human intelligence, such as visual perception, speech recognition, decision-making, and translation between languages.\"\n",
    "\n",
    "freq_table = _create_frequency_table(text)\n",
    "'''\n",
    "We already have a sentence tokenizer, so we just need \n",
    "to run the sent_tokenize() method to create the array of sentences.\n",
    "'''\n",
    "\n",
    "# 2 Tokenize the sentences\n",
    "sentences = sent_tokenize(text)\n",
    "\n",
    "\n",
    "# 3 Important Algorithm: score the sentences\n",
    "sentence_scores = _score_sentences(sentences, freq_table)\n",
    "\n",
    "\n",
    "# 4 Find the threshold\n",
    "threshold = _find_average_score(sentence_scores)\n",
    "print(threshold)\n",
    "\n",
    "\n",
    "# 5 Important Algorithm: Generate the summary\n",
    "summary = _generate_summary(sentences, sentence_scores, 1.5 * threshold)\n",
    "\n",
    "print(summary)"
   ]
  },
  {
   "cell_type": "code",
   "execution_count": 7,
   "metadata": {},
   "outputs": [
    {
     "data": {
      "text/plain": [
       "1"
      ]
     },
     "execution_count": 7,
     "metadata": {},
     "output_type": "execute_result"
    }
   ],
   "source": [
    "threshold"
   ]
  },
  {
   "cell_type": "code",
   "execution_count": 14,
   "metadata": {},
   "outputs": [
    {
     "data": {
      "text/plain": [
       "{'In an atte': 2,\n",
       " 'Envisioned': 2,\n",
       " 'As part of': 1,\n",
       " 'The compan': 1,\n",
       " 'This will ': 1,\n",
       " 'That’s why': 1,\n",
       " 'The progra': 1,\n",
       " 'Earlier in': 2,\n",
       " 'This progr': 2}"
      ]
     },
     "execution_count": 14,
     "metadata": {},
     "output_type": "execute_result"
    }
   ],
   "source": [
    "sentence_scores"
   ]
  },
  {
   "cell_type": "code",
   "execution_count": 16,
   "metadata": {},
   "outputs": [
    {
     "data": {
      "text/plain": [
       "{'In': 2,\n",
       " 'attempt': 2,\n",
       " 'build': 5,\n",
       " 'ai-readi': 2,\n",
       " 'workforc': 2,\n",
       " ',': 14,\n",
       " 'microsoft': 4,\n",
       " 'announc': 2,\n",
       " 'intellig': 3,\n",
       " 'cloud': 5,\n",
       " 'hub': 3,\n",
       " 'ha': 2,\n",
       " 'launch': 1,\n",
       " 'empow': 1,\n",
       " 'next': 1,\n",
       " 'gener': 2,\n",
       " 'student': 2,\n",
       " 'skill': 5,\n",
       " '.': 11,\n",
       " 'envis': 1,\n",
       " 'three-year': 1,\n",
       " 'collabor': 2,\n",
       " 'program': 8,\n",
       " 'support': 2,\n",
       " 'around': 1,\n",
       " '100': 1,\n",
       " 'institut': 3,\n",
       " 'AI': 12,\n",
       " 'infrastructur': 2,\n",
       " 'cours': 2,\n",
       " 'content': 1,\n",
       " 'curriculum': 1,\n",
       " 'develop': 6,\n",
       " 'tool': 2,\n",
       " 'give': 1,\n",
       " 'access': 1,\n",
       " 'servic': 4,\n",
       " 'As': 1,\n",
       " 'part': 1,\n",
       " 'redmond': 1,\n",
       " 'giant': 1,\n",
       " 'want': 2,\n",
       " 'expand': 1,\n",
       " 'reach': 1,\n",
       " 'plan': 1,\n",
       " 'strong': 1,\n",
       " 'ecosystem': 1,\n",
       " 'india': 2,\n",
       " 'set': 1,\n",
       " 'core': 1,\n",
       " 'iot': 1,\n",
       " 'select': 1,\n",
       " 'campus': 1,\n",
       " 'compani': 2,\n",
       " 'provid': 3,\n",
       " 'azur': 2,\n",
       " 'cognit': 2,\n",
       " 'bot': 1,\n",
       " 'machin': 1,\n",
       " 'learning.accord': 1,\n",
       " 'manish': 1,\n",
       " 'prakash': 1,\n",
       " 'countri': 1,\n",
       " 'manager-p': 1,\n",
       " 'health': 1,\n",
       " 'educ': 4,\n",
       " 'said': 1,\n",
       " '``': 1,\n",
       " 'defin': 1,\n",
       " 'technolog': 2,\n",
       " 'time': 1,\n",
       " 'transform': 1,\n",
       " 'live': 1,\n",
       " 'industri': 2,\n",
       " 'job': 2,\n",
       " 'tomorrow': 2,\n",
       " 'requir': 2,\n",
       " 'differ': 1,\n",
       " 'skillset': 1,\n",
       " 'thi': 3,\n",
       " 'train': 1,\n",
       " 'work': 1,\n",
       " '’': 1,\n",
       " 'whi': 1,\n",
       " 'becom': 1,\n",
       " 'critic': 1,\n",
       " 'ever': 1,\n",
       " 'integr': 1,\n",
       " 'new': 1,\n",
       " 'ramp': 1,\n",
       " 'set-up': 1,\n",
       " 'capabl': 1,\n",
       " 'among': 1,\n",
       " \"''\": 1,\n",
       " 'aim': 1,\n",
       " 'in-depth': 1,\n",
       " 'understand': 1,\n",
       " 'connect': 1,\n",
       " 'solut': 1,\n",
       " 'applic': 1,\n",
       " 'across': 1,\n",
       " 'earlier': 1,\n",
       " 'april': 1,\n",
       " 'year': 1,\n",
       " 'profession': 1,\n",
       " 'learn': 1,\n",
       " 'track': 1,\n",
       " 'open': 1,\n",
       " 'public': 1,\n",
       " 'wa': 1,\n",
       " 'readi': 1,\n",
       " 'programm': 1,\n",
       " 'hone': 1,\n",
       " 'data': 1,\n",
       " 'scienc': 1,\n",
       " 'seri': 1,\n",
       " 'onlin': 1,\n",
       " 'featur': 1,\n",
       " 'hands-on': 1,\n",
       " 'lab': 1,\n",
       " 'expert': 1,\n",
       " 'instructor': 1,\n",
       " 'well': 1,\n",
       " 'also': 1,\n",
       " 'includ': 1,\n",
       " 'developer-focus': 1,\n",
       " 'school': 1,\n",
       " 'bunch': 1,\n",
       " 'asset': 1,\n",
       " 'help': 1}"
      ]
     },
     "execution_count": 16,
     "metadata": {},
     "output_type": "execute_result"
    }
   ],
   "source": [
    "freq_table"
   ]
  },
  {
   "cell_type": "code",
   "execution_count": null,
   "metadata": {},
   "outputs": [],
   "source": []
  }
 ],
 "metadata": {
  "kernelspec": {
   "display_name": "Python 3",
   "language": "python",
   "name": "python3"
  },
  "language_info": {
   "codemirror_mode": {
    "name": "ipython",
    "version": 3
   },
   "file_extension": ".py",
   "mimetype": "text/x-python",
   "name": "python",
   "nbconvert_exporter": "python",
   "pygments_lexer": "ipython3",
   "version": "3.7.6"
  }
 },
 "nbformat": 4,
 "nbformat_minor": 4
}
