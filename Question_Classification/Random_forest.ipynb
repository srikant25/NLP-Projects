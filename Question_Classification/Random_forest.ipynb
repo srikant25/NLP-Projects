{
 "cells": [
  {
   "cell_type": "code",
   "execution_count": 21,
   "metadata": {},
   "outputs": [],
   "source": [
    "import pandas as pd\n",
    "import re\n",
    "import numpy as np\n",
    "import matplotlib.pyplot as plt\n",
    "from nltk.corpus import stopwords\n",
    "from nltk.stem import PorterStemmer\n",
    "from sklearn.feature_extraction.text import TfidfVectorizer\n",
    "from sklearn.pipeline import Pipeline\n",
    "from sklearn.metrics import classification_report, confusion_matrix,accuracy_score\n",
    "from sklearn.model_selection import train_test_split\n",
    "from sklearn.feature_selection import SelectKBest, chi2\n",
    "from sqlite3 import Error\n",
    "from sklearn.ensemble import RandomForestClassifier\n",
    "import sqlite3\n",
    "import pickle\n",
    "%matplotlib inline\n",
    "data=pd.read_csv('C:/Users/SRIKANT NAYAK/Documents/code/bloom_texonomy/data2.csv',encoding= 'unicode_escape')\n",
    "upsc_data=pd.read_csv('C:/Users/SRIKANT NAYAK/Documents/code/bloom_texonomy/upsc.csv',encoding= 'unicode_escape')\n",
    "df=pd.DataFrame(data)\n",
    "upsc_df=pd.DataFrame(upsc_data)\n"
   ]
  },
  {
   "cell_type": "code",
   "execution_count": 22,
   "metadata": {},
   "outputs": [
    {
     "data": {
      "image/png": "[encoded data removed]",
      "text/plain": [
       "<Figure size 432x288 with 1 Axes>"
      ]
     },
     "metadata": {
      "needs_background": "light"
     },
     "output_type": "display_data"
    }
   ],
   "source": [
    "df.groupby('Label').count().plot.bar(ylim=0)\n",
    "plt.show()"
   ]
  },
  {
   "cell_type": "markdown",
   "metadata": {},
   "source": [
    "# Preprocessing the text data"
   ]
  },
  {
   "cell_type": "code",
   "execution_count": 23,
   "metadata": {},
   "outputs": [
    {
     "data": {
      "text/html": [
       "<div>\n",
       "<style scoped>\n",
       "    .dataframe tbody tr th:only-of-type {\n",
       "        vertical-align: middle;\n",
       "    }\n",
       "\n",
       "    .dataframe tbody tr th {\n",
       "        vertical-align: top;\n",
       "    }\n",
       "\n",
       "    .dataframe thead th {\n",
       "        text-align: right;\n",
       "    }\n",
       "</style>\n",
       "<table border=\"1\" class=\"dataframe\">\n",
       "  <thead>\n",
       "    <tr style=\"text-align: right;\">\n",
       "      <th></th>\n",
       "      <th>Question</th>\n",
       "      <th>cleaned</th>\n",
       "    </tr>\n",
       "  </thead>\n",
       "  <tbody>\n",
       "    <tr>\n",
       "      <th>0</th>\n",
       "      <td>The 1857 Uprising was the culmination of the r...</td>\n",
       "      <td>the upris culmin recurr big small local rebell...</td>\n",
       "    </tr>\n",
       "    <tr>\n",
       "      <th>1</th>\n",
       "      <td>Examine the linkages between the ninteenth cen...</td>\n",
       "      <td>examin linkag ninteenth centuri indian renaiss...</td>\n",
       "    </tr>\n",
       "    <tr>\n",
       "      <th>2</th>\n",
       "      <td>Assess the impact of global warming on the cor...</td>\n",
       "      <td>assess impact global warm coral life system ex...</td>\n",
       "    </tr>\n",
       "    <tr>\n",
       "      <th>3</th>\n",
       "      <td>Discuss the causes of depletion of mangroves a...</td>\n",
       "      <td>discuss caus deplet mangrov explain import mai...</td>\n",
       "    </tr>\n",
       "    <tr>\n",
       "      <th>4</th>\n",
       "      <td>Can the strategy of regional resource-based ma...</td>\n",
       "      <td>can strategi region resourc base manufactur he...</td>\n",
       "    </tr>\n",
       "    <tr>\n",
       "      <th>5</th>\n",
       "      <td>Discuss the factors for localisation of agro-b...</td>\n",
       "      <td>discuss factor localis agro base food process ...</td>\n",
       "    </tr>\n",
       "    <tr>\n",
       "      <th>6</th>\n",
       "      <td>What makes the Indian society unique in sustai...</td>\n",
       "      <td>what make indian societi uniqu sustain cultur ...</td>\n",
       "    </tr>\n",
       "    <tr>\n",
       "      <th>7</th>\n",
       "      <td>\"Empowering women is the key to control popula...</td>\n",
       "      <td>empow women key control popul growth discuss</td>\n",
       "    </tr>\n",
       "    <tr>\n",
       "      <th>8</th>\n",
       "      <td>What are the challenges to our cultural practi...</td>\n",
       "      <td>what challeng cultur practic name secular</td>\n",
       "    </tr>\n",
       "    <tr>\n",
       "      <th>9</th>\n",
       "      <td>Many voices had strengthened and enriched the ...</td>\n",
       "      <td>mani voic strengthen enrich nationalist moveme...</td>\n",
       "    </tr>\n",
       "    <tr>\n",
       "      <th>10</th>\n",
       "      <td>Assess the role of British imperial power in c...</td>\n",
       "      <td>assess role british imperi power complic proce...</td>\n",
       "    </tr>\n",
       "    <tr>\n",
       "      <th>11</th>\n",
       "      <td>Explain how the foundations of the modern worl...</td>\n",
       "      <td>explain foundat modern world laid american fre...</td>\n",
       "    </tr>\n",
       "    <tr>\n",
       "      <th>12</th>\n",
       "      <td>What is water stress? How and why does it diff...</td>\n",
       "      <td>what water stress how differ region india</td>\n",
       "    </tr>\n",
       "    <tr>\n",
       "      <th>13</th>\n",
       "      <td>How can the mountain ecosystem be restored fro...</td>\n",
       "      <td>how mountain ecosystem restor neg impact devel...</td>\n",
       "    </tr>\n",
       "    <tr>\n",
       "      <th>14</th>\n",
       "      <td>How is efficient and affordable urban mass tra...</td>\n",
       "      <td>how effici afford urban mass transport key rap...</td>\n",
       "    </tr>\n",
       "    <tr>\n",
       "      <th>15</th>\n",
       "      <td>How do ocean currents and water masses differ ...</td>\n",
       "      <td>how ocean current water mass differ impact mar...</td>\n",
       "    </tr>\n",
       "    <tr>\n",
       "      <th>16</th>\n",
       "      <td>Do we have cultural pockets of small India all...</td>\n",
       "      <td>do cultur pocket small india nation elebor exampl</td>\n",
       "    </tr>\n",
       "    <tr>\n",
       "      <th>17</th>\n",
       "      <td>What are the continued challenges for women in...</td>\n",
       "      <td>what continu challeng women india time space</td>\n",
       "    </tr>\n",
       "    <tr>\n",
       "      <th>18</th>\n",
       "      <td>Are we losing your local identity for the glob...</td>\n",
       "      <td>are lose local ident global ident discuss</td>\n",
       "    </tr>\n",
       "    <tr>\n",
       "      <th>19</th>\n",
       "      <td>Highlight the Central Asian and Greco-Bactrian...</td>\n",
       "      <td>highlight central asian greco bactrian element...</td>\n",
       "    </tr>\n",
       "  </tbody>\n",
       "</table>\n",
       "</div>"
      ],
      "text/plain": [
       "                                             Question  \\\n",
       "0   The 1857 Uprising was the culmination of the r...   \n",
       "1   Examine the linkages between the ninteenth cen...   \n",
       "2   Assess the impact of global warming on the cor...   \n",
       "3   Discuss the causes of depletion of mangroves a...   \n",
       "4   Can the strategy of regional resource-based ma...   \n",
       "5   Discuss the factors for localisation of agro-b...   \n",
       "6   What makes the Indian society unique in sustai...   \n",
       "7   \"Empowering women is the key to control popula...   \n",
       "8   What are the challenges to our cultural practi...   \n",
       "9   Many voices had strengthened and enriched the ...   \n",
       "10  Assess the role of British imperial power in c...   \n",
       "11  Explain how the foundations of the modern worl...   \n",
       "12  What is water stress? How and why does it diff...   \n",
       "13  How can the mountain ecosystem be restored fro...   \n",
       "14  How is efficient and affordable urban mass tra...   \n",
       "15  How do ocean currents and water masses differ ...   \n",
       "16  Do we have cultural pockets of small India all...   \n",
       "17  What are the continued challenges for women in...   \n",
       "18  Are we losing your local identity for the glob...   \n",
       "19  Highlight the Central Asian and Greco-Bactrian...   \n",
       "\n",
       "                                              cleaned  \n",
       "0   the upris culmin recurr big small local rebell...  \n",
       "1   examin linkag ninteenth centuri indian renaiss...  \n",
       "2   assess impact global warm coral life system ex...  \n",
       "3   discuss caus deplet mangrov explain import mai...  \n",
       "4   can strategi region resourc base manufactur he...  \n",
       "5   discuss factor localis agro base food process ...  \n",
       "6   what make indian societi uniqu sustain cultur ...  \n",
       "7        empow women key control popul growth discuss  \n",
       "8           what challeng cultur practic name secular  \n",
       "9   mani voic strengthen enrich nationalist moveme...  \n",
       "10  assess role british imperi power complic proce...  \n",
       "11  explain foundat modern world laid american fre...  \n",
       "12          what water stress how differ region india  \n",
       "13  how mountain ecosystem restor neg impact devel...  \n",
       "14  how effici afford urban mass transport key rap...  \n",
       "15  how ocean current water mass differ impact mar...  \n",
       "16  do cultur pocket small india nation elebor exampl  \n",
       "17       what continu challeng women india time space  \n",
       "18          are lose local ident global ident discuss  \n",
       "19  highlight central asian greco bactrian element...  "
      ]
     },
     "execution_count": 23,
     "metadata": {},
     "output_type": "execute_result"
    }
   ],
   "source": [
    "stemmer = PorterStemmer()\n",
    "words = stopwords.words(\"english\")\n",
    "df['cleaned'] = df['Question'].apply(lambda x: \" \".join([stemmer.stem(i) for i in re.sub(\"[^a-zA-Z]\", \" \", x).split() if i not in words]).lower())\n",
    "df\n",
    "upsc_df['cleaned'] = upsc_df['Question'].apply(lambda x: \" \".join([stemmer.stem(i) for i in re.sub(\"[^a-zA-Z]\", \" \", x).split() if i not in words]).lower())\n",
    "upsc_df\n"
   ]
  },
  {
   "cell_type": "markdown",
   "metadata": {},
   "source": [
    "# Apply TD-IDF"
   ]
  },
  {
   "cell_type": "code",
   "execution_count": 24,
   "metadata": {},
   "outputs": [
    {
     "data": {
      "text/plain": [
       "(600, 325)"
      ]
     },
     "execution_count": 24,
     "metadata": {},
     "output_type": "execute_result"
    }
   ],
   "source": [
    "vectorizer = TfidfVectorizer(min_df= 3, stop_words=\"english\", sublinear_tf=True, norm='l2', ngram_range=(1, 2))\n",
    "final_features = vectorizer.fit_transform(df['cleaned']).toarray()\n",
    "upsc_features = vectorizer.fit_transform(upsc_df['cleaned']).toarray()\n",
    "final_features.shape\n",
    "#upsc_features.shape"
   ]
  },
  {
   "cell_type": "markdown",
   "metadata": {},
   "source": [
    "# Apply Random Forest"
   ]
  },
  {
   "cell_type": "code",
   "execution_count": 26,
   "metadata": {},
   "outputs": [
    {
     "name": "stdout",
     "output_type": "stream",
     "text": [
      "0.7333333333333333\n",
      "               precision    recall  f1-score   support\n",
      "\n",
      "      Analyze       0.90      0.90      0.90        31\n",
      "  Application       0.60      0.67      0.63        18\n",
      "Comprehension       0.90      0.72      0.80        25\n",
      "   evaluation       0.85      0.48      0.61        23\n",
      "    knowledge       0.57      0.90      0.69        29\n",
      "     synthesi       0.75      0.62      0.68        24\n",
      "\n",
      "     accuracy                           0.73       150\n",
      "    macro avg       0.76      0.71      0.72       150\n",
      " weighted avg       0.77      0.73      0.73       150\n",
      "\n",
      "[[28  0  0  0  3  0]\n",
      " [ 0 12  0  0  4  2]\n",
      " [ 1  0 18  0  5  1]\n",
      " [ 1  4  0 11  5  2]\n",
      " [ 0  1  2  0 26  0]\n",
      " [ 1  3  0  2  3 15]]\n"
     ]
    }
   ],
   "source": [
    "X = df['cleaned']\n",
    "Y = df['Label']\n",
    "X_train, X_test, y_train, y_test = train_test_split(X, Y, test_size=0.25)\n",
    "# instead of doing these steps one at a time, we can use a pipeline to complete them all at once\n",
    "pipeline = Pipeline([('vect', vectorizer),\n",
    "                     ('chi',  SelectKBest(chi2, k=100)),\n",
    "                     ('clf', RandomForestClassifier())])\n",
    "# fitting our model and save it in a pickle for later use\n",
    "model = pipeline.fit(X_train, y_train)\n",
    "with open('RandomForest.pickle', 'wb') as f:\n",
    "    pickle.dump(model, f)\n",
    "ytest = np.array(y_test)\n",
    "print(accuracy_score(y_test,model.predict(X_test)))\n",
    "# confusion matrix and classification report(precision, recall, F1-score)\n",
    "print(classification_report(ytest, model.predict(X_test)))\n",
    "print(confusion_matrix(ytest, model.predict(X_test)))\n"
   ]
  },
  {
   "cell_type": "code",
   "execution_count": null,
   "metadata": {},
   "outputs": [],
   "source": []
  },
  {
   "cell_type": "code",
   "execution_count": null,
   "metadata": {},
   "outputs": [],
   "source": [
    "\n",
    " \n",
    "    "
   ]
  },
  {
   "cell_type": "code",
   "execution_count": null,
   "metadata": {},
   "outputs": [],
   "source": [
    "\n"
   ]
  },
  {
   "cell_type": "code",
   "execution_count": null,
   "metadata": {},
   "outputs": [],
   "source": []
  },
  {
   "cell_type": "code",
   "execution_count": null,
   "metadata": {},
   "outputs": [],
   "source": []
  }
 ],
 "metadata": {
  "kernelspec": {
   "display_name": "Python 3",
   "language": "python",
   "name": "python3"
  },
  "language_info": {
   "codemirror_mode": {
    "name": "ipython",
    "version": 3
   },
   "file_extension": ".py",
   "mimetype": "text/x-python",
   "name": "python",
   "nbconvert_exporter": "python",
   "pygments_lexer": "ipython3",
   "version": "3.7.6"
  }
 },
 "nbformat": 4,
 "nbformat_minor": 4
}
